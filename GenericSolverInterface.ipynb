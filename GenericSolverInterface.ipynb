{
 "cells": [
  {
   "cell_type": "markdown",
   "id": "3b9fe1bb-df2b-48f8-9e99-5497b9e0e2a1",
   "metadata": {},
   "source": [
    "From https://stackoverflow.com/questions/74179391/custom-python-solver-for-pyomo"
   ]
  },
  {
   "cell_type": "code",
   "execution_count": 1,
   "id": "26daf5c7-9b8c-456a-9f03-8af5b98d6d44",
   "metadata": {},
   "outputs": [],
   "source": [
    "import pyomo.environ as pyo\n",
    "from pyomo.opt import SolverFactory"
   ]
  },
  {
   "cell_type": "code",
   "execution_count": 2,
   "id": "c7f1101a-b6a4-46f1-af27-6ecf731494cd",
   "metadata": {},
   "outputs": [
    {
     "ename": "NameError",
     "evalue": "name '_BlockData' is not defined",
     "output_type": "error",
     "traceback": [
      "\u001b[1;31m---------------------------------------------------------------------------\u001b[0m",
      "\u001b[1;31mNameError\u001b[0m                                 Traceback (most recent call last)",
      "Input \u001b[1;32mIn [2]\u001b[0m, in \u001b[0;36m<cell line: 1>\u001b[1;34m()\u001b[0m\n\u001b[1;32m----> 1\u001b[0m \u001b[38;5;28;01mclass\u001b[39;00m \u001b[38;5;21;01mGenericSolverInterface\u001b[39;00m(\u001b[38;5;28mobject\u001b[39m):\n\u001b[0;32m      2\u001b[0m     \u001b[38;5;28;01mdef\u001b[39;00m \u001b[38;5;21msolve\u001b[39m(\u001b[38;5;28mself\u001b[39m,\n\u001b[0;32m      3\u001b[0m               model: _BlockData,\n\u001b[0;32m      4\u001b[0m               tee: \u001b[38;5;28mbool\u001b[39m \u001b[38;5;241m=\u001b[39m \u001b[38;5;28;01mFalse\u001b[39;00m,\n\u001b[1;32m   (...)\u001b[0m\n\u001b[0;32m     13\u001b[0m               keepfiles: \u001b[38;5;28mbool\u001b[39m \u001b[38;5;241m=\u001b[39m \u001b[38;5;28;01mFalse\u001b[39;00m,\n\u001b[0;32m     14\u001b[0m               symbolic_solver_labels: \u001b[38;5;28mbool\u001b[39m \u001b[38;5;241m=\u001b[39m \u001b[38;5;28;01mFalse\u001b[39;00m):\n\u001b[0;32m     15\u001b[0m         \u001b[38;5;28;01mpass\u001b[39;00m\n",
      "Input \u001b[1;32mIn [2]\u001b[0m, in \u001b[0;36mGenericSolverInterface\u001b[1;34m()\u001b[0m\n\u001b[0;32m      1\u001b[0m \u001b[38;5;28;01mclass\u001b[39;00m \u001b[38;5;21;01mGenericSolverInterface\u001b[39;00m(\u001b[38;5;28mobject\u001b[39m):\n\u001b[0;32m      2\u001b[0m     \u001b[38;5;28;01mdef\u001b[39;00m \u001b[38;5;21msolve\u001b[39m(\u001b[38;5;28mself\u001b[39m,\n\u001b[1;32m----> 3\u001b[0m               model: \u001b[43m_BlockData\u001b[49m,\n\u001b[0;32m      4\u001b[0m               tee: \u001b[38;5;28mbool\u001b[39m \u001b[38;5;241m=\u001b[39m \u001b[38;5;28;01mFalse\u001b[39;00m,\n\u001b[0;32m      5\u001b[0m               load_solutions: \u001b[38;5;28mbool\u001b[39m \u001b[38;5;241m=\u001b[39m \u001b[38;5;28;01mTrue\u001b[39;00m,\n\u001b[0;32m      6\u001b[0m               logfile: Optional[\u001b[38;5;28mstr\u001b[39m] \u001b[38;5;241m=\u001b[39m \u001b[38;5;28;01mNone\u001b[39;00m,\n\u001b[0;32m      7\u001b[0m               solnfile: Optional[\u001b[38;5;28mstr\u001b[39m] \u001b[38;5;241m=\u001b[39m \u001b[38;5;28;01mNone\u001b[39;00m,\n\u001b[0;32m      8\u001b[0m               timelimit: Optional[\u001b[38;5;28mfloat\u001b[39m] \u001b[38;5;241m=\u001b[39m \u001b[38;5;28;01mNone\u001b[39;00m,\n\u001b[0;32m      9\u001b[0m               report_timing: \u001b[38;5;28mbool\u001b[39m \u001b[38;5;241m=\u001b[39m \u001b[38;5;28;01mFalse\u001b[39;00m,\n\u001b[0;32m     10\u001b[0m               solver_io: Optional[\u001b[38;5;28mstr\u001b[39m] \u001b[38;5;241m=\u001b[39m \u001b[38;5;28;01mNone\u001b[39;00m,\n\u001b[0;32m     11\u001b[0m               suffixes: Optional[Sequence] \u001b[38;5;241m=\u001b[39m \u001b[38;5;28;01mNone\u001b[39;00m,\n\u001b[0;32m     12\u001b[0m               options: Optional[Dict] \u001b[38;5;241m=\u001b[39m \u001b[38;5;28;01mNone\u001b[39;00m,\n\u001b[0;32m     13\u001b[0m               keepfiles: \u001b[38;5;28mbool\u001b[39m \u001b[38;5;241m=\u001b[39m \u001b[38;5;28;01mFalse\u001b[39;00m,\n\u001b[0;32m     14\u001b[0m               symbolic_solver_labels: \u001b[38;5;28mbool\u001b[39m \u001b[38;5;241m=\u001b[39m \u001b[38;5;28;01mFalse\u001b[39;00m):\n\u001b[0;32m     15\u001b[0m         \u001b[38;5;28;01mpass\u001b[39;00m\n\u001b[0;32m     17\u001b[0m     \u001b[38;5;28;01mdef\u001b[39;00m \u001b[38;5;21mavailable\u001b[39m(\u001b[38;5;28mself\u001b[39m, exception_flag\u001b[38;5;241m=\u001b[39m\u001b[38;5;28;01mTrue\u001b[39;00m) \u001b[38;5;241m-\u001b[39m\u001b[38;5;241m>\u001b[39m \u001b[38;5;28mbool\u001b[39m:\n",
      "\u001b[1;31mNameError\u001b[0m: name '_BlockData' is not defined"
     ]
    }
   ],
   "source": [
    "class GenericSolverInterface(object):\n",
    "    def solve(self,\n",
    "              model: _BlockData,\n",
    "              tee: bool = False,\n",
    "              load_solutions: bool = True,\n",
    "              logfile: Optional[str] = None,\n",
    "              solnfile: Optional[str] = None,\n",
    "              timelimit: Optional[float] = None,\n",
    "              report_timing: bool = False,\n",
    "              solver_io: Optional[str] = None,\n",
    "              suffixes: Optional[Sequence] = None,\n",
    "              options: Optional[Dict] = None,\n",
    "              keepfiles: bool = False,\n",
    "              symbolic_solver_labels: bool = False):\n",
    "        pass\n",
    "\n",
    "    def available(self, exception_flag=True) -> bool:\n",
    "        pass\n",
    "\n",
    "    def license_is_valid(self) -> bool:\n",
    "        pass\n",
    "\n",
    "    def version(self) -> Tuple:\n",
    "        pass\n",
    "\n",
    "    @property\n",
    "    def options(self) -> ConfigDict:\n",
    "        pass\n",
    "\n",
    "    @options.setter\n",
    "    def options(self, val):\n",
    "        pass            "
   ]
  },
  {
   "cell_type": "code",
   "execution_count": null,
   "id": "6dd2eaea-1e79-4c0d-b90f-61c9ac7453ae",
   "metadata": {},
   "outputs": [],
   "source": []
  }
 ],
 "metadata": {
  "kernelspec": {
   "display_name": "Python 3 (ipykernel)",
   "language": "python",
   "name": "python3"
  },
  "language_info": {
   "codemirror_mode": {
    "name": "ipython",
    "version": 3
   },
   "file_extension": ".py",
   "mimetype": "text/x-python",
   "name": "python",
   "nbconvert_exporter": "python",
   "pygments_lexer": "ipython3",
   "version": "3.10.9"
  }
 },
 "nbformat": 4,
 "nbformat_minor": 5
}
