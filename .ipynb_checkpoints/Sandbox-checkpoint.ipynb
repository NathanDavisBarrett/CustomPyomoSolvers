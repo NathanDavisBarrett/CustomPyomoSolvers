{
 "cells": [
  {
   "cell_type": "code",
   "execution_count": 1,
   "id": "8f855482-133b-4324-ab11-c9044d5b0c33",
   "metadata": {},
   "outputs": [],
   "source": [
    "import pyomo.environ as pyo\n",
    "import numpy as np\n",
    "import NathansSimplexSolver"
   ]
  },
  {
   "cell_type": "code",
   "execution_count": 2,
   "id": "cd7dcdbb-6eb0-4f54-8306-075f983bc9f3",
   "metadata": {},
   "outputs": [
    {
     "name": "stdout",
     "output_type": "stream",
     "text": [
      "[[1.1 1.1 1.1 1.1 1.1 0.  0.  0.  0.  0.  0.  0.  0.  0.  0.  0.  0.  0.\n",
      "  0.  0.  0.  0.  0.  0.  0.  0.  0.  0.  0.  0.  0.  0.  0.  0.  0.  0.\n",
      "  0.  0.  0.  0.  0.  0.  0.  0.  0.  0.  0.  0.  0.  0.  0.  0.  0.  0.\n",
      "  0.  0.  0.  0.  0.  0.  0.  0.  0.  0.  0.  0.  0.  0.  0.  0.  0.  0. ]\n",
      " [0.  0.  0.  0.  0.  1.1 1.1 1.1 1.1 1.1 0.  0.  0.  0.  0.  0.  0.  0.\n",
      "  0.  0.  0.  0.  0.  0.  0.  0.  0.  0.  0.  0.  0.  0.  0.  0.  0.  0.\n",
      "  0.  0.  0.  0.  0.  0.  0.  0.  0.  0.  0.  0.  0.  0.  0.  0.  0.  0.\n",
      "  0.  0.  0.  0.  0.  0.  0.  0.  0.  0.  0.  0.  0.  0.  0.  0.  0.  0. ]\n",
      " [0.  0.  0.  0.  0.  0.  0.  0.  0.  0.  1.1 1.1 1.1 1.1 1.1 0.  0.  0.\n",
      "  0.  0.  0.  0.  0.  0.  0.  0.  0.  0.  0.  0.  0.  0.  0.  0.  0.  0.\n",
      "  0.  0.  0.  0.  0.  0.  0.  0.  0.  0.  0.  0.  0.  0.  0.  0.  0.  0.\n",
      "  0.  0.  0.  0.  0.  0.  0.  0.  0.  0.  0.  0.  0.  0.  0.  0.  0.  0. ]\n",
      " [0.  0.  0.  0.  0.  0.  0.  0.  0.  0.  0.  0.  0.  0.  0.  1.1 1.1 1.1\n",
      "  1.1 1.1 0.  0.  0.  0.  0.  0.  0.  0.  0.  0.  0.  0.  0.  0.  0.  0.\n",
      "  0.  0.  0.  0.  0.  0.  0.  0.  0.  0.  0.  0.  0.  0.  0.  0.  0.  0.\n",
      "  0.  0.  0.  0.  0.  0.  0.  0.  0.  0.  0.  0.  0.  0.  0.  0.  0.  0. ]\n",
      " [0.  0.  0.  0.  0.  0.  0.  0.  0.  0.  0.  0.  0.  0.  0.  0.  0.  0.\n",
      "  0.  0.  1.1 1.1 1.1 1.1 1.1 0.  0.  0.  0.  0.  0.  0.  0.  0.  0.  0.\n",
      "  0.  0.  0.  0.  0.  0.  0.  0.  0.  0.  0.  0.  0.  0.  0.  0.  0.  0.\n",
      "  0.  0.  0.  0.  0.  0.  0.  0.  0.  0.  0.  0.  0.  0.  0.  0.  0.  0. ]\n",
      " [0.  0.  0.  0.  0.  0.  0.  0.  0.  0.  0.  0.  0.  0.  0.  0.  0.  0.\n",
      "  0.  0.  0.  0.  0.  0.  0.  1.1 1.1 1.1 1.1 1.1 0.  0.  0.  0.  0.  0.\n",
      "  0.  0.  0.  0.  0.  0.  0.  0.  0.  0.  0.  0.  0.  0.  0.  0.  0.  0.\n",
      "  0.  0.  0.  0.  0.  0.  0.  0.  0.  0.  0.  0.  0.  0.  0.  0.  0.  0. ]\n",
      " [0.  0.  0.  0.  0.  0.  0.  0.  0.  0.  0.  0.  0.  0.  0.  0.  0.  0.\n",
      "  0.  0.  0.  0.  0.  0.  0.  0.  0.  0.  0.  0.  1.1 1.1 1.1 1.1 1.1 0.\n",
      "  0.  0.  0.  0.  0.  0.  0.  0.  0.  0.  0.  0.  0.  0.  0.  0.  0.  0.\n",
      "  0.  0.  0.  0.  0.  0.  0.  0.  0.  0.  0.  0.  0.  0.  0.  0.  0.  0. ]\n",
      " [0.  0.  0.  0.  0.  0.  0.  0.  0.  0.  0.  0.  0.  0.  0.  0.  0.  0.\n",
      "  0.  0.  0.  0.  0.  0.  0.  0.  0.  0.  0.  0.  0.  0.  0.  0.  0.  1.1\n",
      "  1.1 1.1 1.1 1.1 0.  0.  0.  0.  0.  0.  0.  0.  0.  0.  0.  0.  0.  0.\n",
      "  0.  0.  0.  0.  0.  0.  0.  0.  0.  0.  0.  0.  0.  0.  0.  0.  0.  0. ]\n",
      " [0.  0.  0.  0.  0.  0.  0.  0.  0.  0.  0.  0.  0.  0.  0.  0.  0.  0.\n",
      "  0.  0.  0.  0.  0.  0.  0.  0.  0.  0.  0.  0.  0.  0.  0.  0.  0.  0.\n",
      "  0.  0.  0.  0.  1.1 1.1 1.1 1.1 1.1 0.  0.  0.  0.  0.  0.  0.  0.  0.\n",
      "  0.  0.  0.  0.  0.  0.  0.  0.  0.  0.  0.  0.  0.  0.  0.  0.  0.  0. ]\n",
      " [0.  0.  0.  0.  0.  0.  0.  0.  0.  0.  0.  0.  0.  0.  0.  0.  0.  0.\n",
      "  0.  0.  0.  0.  0.  0.  0.  0.  0.  0.  0.  0.  0.  0.  0.  0.  0.  0.\n",
      "  0.  0.  0.  0.  0.  0.  0.  0.  0.  1.1 1.1 1.1 1.1 1.1 0.  0.  0.  0.\n",
      "  0.  0.  0.  0.  0.  0.  0.  0.  0.  0.  0.  0.  0.  0.  0.  0.  0.  0. ]\n",
      " [0.  0.  0.  0.  0.  0.  0.  0.  0.  0.  0.  0.  0.  0.  0.  0.  0.  0.\n",
      "  0.  0.  0.  0.  0.  0.  0.  0.  0.  0.  0.  0.  0.  0.  0.  0.  0.  0.\n",
      "  0.  0.  0.  0.  0.  0.  0.  0.  0.  0.  0.  0.  0.  0.  1.1 1.1 1.1 1.1\n",
      "  1.1 0.  0.  0.  0.  0.  0.  0.  0.  0.  0.  0.  0.  0.  0.  0.  0.  0. ]\n",
      " [0.  0.  0.  0.  0.  0.  0.  0.  0.  0.  0.  0.  0.  0.  0.  0.  0.  0.\n",
      "  0.  0.  0.  0.  0.  0.  0.  0.  0.  0.  0.  0.  0.  0.  0.  0.  0.  0.\n",
      "  0.  0.  0.  0.  0.  0.  0.  0.  0.  0.  0.  0.  0.  0.  0.  0.  0.  0.\n",
      "  0.  1.1 1.1 1.1 1.1 1.1 0.  0.  0.  0.  0.  0.  0.  0.  0.  0.  0.  0. ]]\n",
      "[0.47262542 0.39161715 0.15114536 0.81005887 0.50017144 0.58271355\n",
      " 0.37925702 0.90143633 0.59764853 0.74508494 0.53643871 0.70430203]\n",
      "ERROR: evaluating object as numeric value: x[0,0,0]\n",
      "        (object: <class 'pyomo.core.base.var._GeneralVarData'>)\n",
      "    No value for uninitialized NumericValue object x[0,0,0]\n"
     ]
    },
    {
     "ename": "ValueError",
     "evalue": "No value for uninitialized NumericValue object x[0,0,0]",
     "output_type": "error",
     "traceback": [
      "\u001b[1;31m---------------------------------------------------------------------------\u001b[0m",
      "\u001b[1;31mValueError\u001b[0m                                Traceback (most recent call last)",
      "Input \u001b[1;32mIn [2]\u001b[0m, in \u001b[0;36m<cell line: 31>\u001b[1;34m()\u001b[0m\n\u001b[0;32m     28\u001b[0m pyo\u001b[38;5;241m.\u001b[39mSolverFactory(\u001b[38;5;124m'\u001b[39m\u001b[38;5;124mNathansSimplexSolver\u001b[39m\u001b[38;5;124m'\u001b[39m)\u001b[38;5;241m.\u001b[39msolve(model)\u001b[38;5;66;03m#.write()\u001b[39;00m\n\u001b[0;32m     30\u001b[0m \u001b[38;5;66;03m#model.objFunc.display()\u001b[39;00m\n\u001b[1;32m---> 31\u001b[0m \u001b[38;5;28mprint\u001b[39m(\u001b[38;5;124m\"\u001b[39m\u001b[38;5;124mObjFunc = \u001b[39m\u001b[38;5;132;01m{}\u001b[39;00m\u001b[38;5;124m\"\u001b[39m\u001b[38;5;241m.\u001b[39mformat(\u001b[43mmodel\u001b[49m\u001b[38;5;241;43m.\u001b[39;49m\u001b[43mobjFunc\u001b[49m\u001b[43m(\u001b[49m\u001b[43m)\u001b[49m))\n\u001b[0;32m     32\u001b[0m model\u001b[38;5;241m.\u001b[39mx\u001b[38;5;241m.\u001b[39mdisplay()\n",
      "File \u001b[1;32m~\\miniconda3\\envs\\maravelias\\lib\\site-packages\\pyomo\\core\\base\\expression.py:61\u001b[0m, in \u001b[0;36m_ExpressionData.__call__\u001b[1;34m(self, exception)\u001b[0m\n\u001b[0;32m     59\u001b[0m \u001b[38;5;28;01mif\u001b[39;00m \u001b[38;5;28mself\u001b[39m\u001b[38;5;241m.\u001b[39mexpr \u001b[38;5;129;01mis\u001b[39;00m \u001b[38;5;28;01mNone\u001b[39;00m:\n\u001b[0;32m     60\u001b[0m     \u001b[38;5;28;01mreturn\u001b[39;00m \u001b[38;5;28;01mNone\u001b[39;00m\n\u001b[1;32m---> 61\u001b[0m \u001b[38;5;28;01mreturn\u001b[39;00m \u001b[38;5;28;43mself\u001b[39;49m\u001b[38;5;241;43m.\u001b[39;49m\u001b[43mexpr\u001b[49m\u001b[43m(\u001b[49m\u001b[43mexception\u001b[49m\u001b[38;5;241;43m=\u001b[39;49m\u001b[43mexception\u001b[49m\u001b[43m)\u001b[49m\n",
      "File \u001b[1;32m~\\miniconda3\\envs\\maravelias\\lib\\site-packages\\pyomo\\core\\expr\\base.py:115\u001b[0m, in \u001b[0;36mExpressionBase.__call__\u001b[1;34m(self, exception)\u001b[0m\n\u001b[0;32m    100\u001b[0m \u001b[38;5;28;01mdef\u001b[39;00m \u001b[38;5;21m__call__\u001b[39m(\u001b[38;5;28mself\u001b[39m, exception\u001b[38;5;241m=\u001b[39m\u001b[38;5;28;01mTrue\u001b[39;00m):\n\u001b[0;32m    101\u001b[0m     \u001b[38;5;124;03m\"\"\"Evaluate the value of the expression tree.\u001b[39;00m\n\u001b[0;32m    102\u001b[0m \n\u001b[0;32m    103\u001b[0m \u001b[38;5;124;03m    Parameters\u001b[39;00m\n\u001b[1;32m   (...)\u001b[0m\n\u001b[0;32m    113\u001b[0m \n\u001b[0;32m    114\u001b[0m \u001b[38;5;124;03m    \"\"\"\u001b[39;00m\n\u001b[1;32m--> 115\u001b[0m     \u001b[38;5;28;01mreturn\u001b[39;00m \u001b[43mevaluate_expression\u001b[49m\u001b[43m(\u001b[49m\u001b[38;5;28;43mself\u001b[39;49m\u001b[43m,\u001b[49m\u001b[43m \u001b[49m\u001b[43mexception\u001b[49m\u001b[43m)\u001b[49m\n",
      "File \u001b[1;32m~\\miniconda3\\envs\\maravelias\\lib\\site-packages\\pyomo\\core\\expr\\visitor.py:1242\u001b[0m, in \u001b[0;36mevaluate_expression\u001b[1;34m(exp, exception, constant)\u001b[0m\n\u001b[0;32m   1239\u001b[0m         clear_active \u001b[38;5;241m=\u001b[39m \u001b[38;5;28;01mTrue\u001b[39;00m\n\u001b[0;32m   1241\u001b[0m \u001b[38;5;28;01mtry\u001b[39;00m:\n\u001b[1;32m-> 1242\u001b[0m     ans \u001b[38;5;241m=\u001b[39m \u001b[43mvisitor\u001b[49m\u001b[38;5;241;43m.\u001b[39;49m\u001b[43mdfs_postorder_stack\u001b[49m\u001b[43m(\u001b[49m\u001b[43mexp\u001b[49m\u001b[43m)\u001b[49m\n\u001b[0;32m   1243\u001b[0m \u001b[38;5;28;01mexcept\u001b[39;00m ( TemplateExpressionError, \u001b[38;5;167;01mValueError\u001b[39;00m, \u001b[38;5;167;01mTypeError\u001b[39;00m,\n\u001b[0;32m   1244\u001b[0m          NonConstantExpressionError, FixedExpressionError ):\n\u001b[0;32m   1245\u001b[0m     \u001b[38;5;66;03m# Errors that we want to be able to suppress:\u001b[39;00m\n\u001b[1;32m   (...)\u001b[0m\n\u001b[0;32m   1253\u001b[0m     \u001b[38;5;66;03m#   TypeError: This can be raised in Python3 when evaluating a\u001b[39;00m\n\u001b[0;32m   1254\u001b[0m     \u001b[38;5;66;03m#      operation returns a complex number (e.g., sqrt(-1))\u001b[39;00m\n\u001b[0;32m   1255\u001b[0m     \u001b[38;5;28;01mif\u001b[39;00m exception:\n",
      "File \u001b[1;32m~\\miniconda3\\envs\\maravelias\\lib\\site-packages\\pyomo\\core\\expr\\visitor.py:880\u001b[0m, in \u001b[0;36mExpressionValueVisitor.dfs_postorder_stack\u001b[1;34m(self, node)\u001b[0m\n\u001b[0;32m    878\u001b[0m _sub \u001b[38;5;241m=\u001b[39m _argList[_idx]\n\u001b[0;32m    879\u001b[0m _idx \u001b[38;5;241m+\u001b[39m\u001b[38;5;241m=\u001b[39m \u001b[38;5;241m1\u001b[39m\n\u001b[1;32m--> 880\u001b[0m flag, value \u001b[38;5;241m=\u001b[39m \u001b[38;5;28;43mself\u001b[39;49m\u001b[38;5;241;43m.\u001b[39;49m\u001b[43mvisiting_potential_leaf\u001b[49m\u001b[43m(\u001b[49m\u001b[43m_sub\u001b[49m\u001b[43m)\u001b[49m\n\u001b[0;32m    881\u001b[0m \u001b[38;5;28;01mif\u001b[39;00m flag:\n\u001b[0;32m    882\u001b[0m     _result\u001b[38;5;241m.\u001b[39mappend( value )\n",
      "File \u001b[1;32m~\\miniconda3\\envs\\maravelias\\lib\\site-packages\\pyomo\\core\\expr\\visitor.py:1144\u001b[0m, in \u001b[0;36m_EvaluationVisitor.visiting_potential_leaf\u001b[1;34m(self, node)\u001b[0m\n\u001b[0;32m   1141\u001b[0m     \u001b[38;5;28;01mreturn\u001b[39;00m \u001b[38;5;28;01mFalse\u001b[39;00m, \u001b[38;5;28;01mNone\u001b[39;00m\n\u001b[0;32m   1143\u001b[0m \u001b[38;5;28;01mif\u001b[39;00m node\u001b[38;5;241m.\u001b[39mis_numeric_type():\n\u001b[1;32m-> 1144\u001b[0m     \u001b[38;5;28;01mreturn\u001b[39;00m \u001b[38;5;28;01mTrue\u001b[39;00m, \u001b[43mvalue\u001b[49m\u001b[43m(\u001b[49m\u001b[43mnode\u001b[49m\u001b[43m,\u001b[49m\u001b[43m \u001b[49m\u001b[43mexception\u001b[49m\u001b[38;5;241;43m=\u001b[39;49m\u001b[38;5;28;43mself\u001b[39;49m\u001b[38;5;241;43m.\u001b[39;49m\u001b[43mexception\u001b[49m\u001b[43m)\u001b[49m\n\u001b[0;32m   1145\u001b[0m \u001b[38;5;28;01melif\u001b[39;00m node\u001b[38;5;241m.\u001b[39mis_logical_type():\n\u001b[0;32m   1146\u001b[0m     \u001b[38;5;28;01mreturn\u001b[39;00m \u001b[38;5;28;01mTrue\u001b[39;00m, value(node, exception\u001b[38;5;241m=\u001b[39m\u001b[38;5;28mself\u001b[39m\u001b[38;5;241m.\u001b[39mexception)\n",
      "File \u001b[1;32mpyomo\\core\\expr\\numvalue.pyx:153\u001b[0m, in \u001b[0;36mpyomo.core.expr.numvalue.value\u001b[1;34m()\u001b[0m\n",
      "File \u001b[1;32mpyomo\\core\\expr\\numvalue.pyx:140\u001b[0m, in \u001b[0;36mpyomo.core.expr.numvalue.value\u001b[1;34m()\u001b[0m\n",
      "\u001b[1;31mValueError\u001b[0m: No value for uninitialized NumericValue object x[0,0,0]"
     ]
    }
   ],
   "source": [
    "model = pyo.ConcreteModel()\n",
    "\n",
    "numI = 3\n",
    "numJ = 4\n",
    "numK = 5\n",
    "\n",
    "model.I = pyo.Set(initialize=range(numI))\n",
    "model.J = pyo.Set(initialize=range(numJ))\n",
    "model.K = pyo.Set(initialize=range(numK))\n",
    "\n",
    "model.I_J = pyo.Set(initialize=model.I * model.J)\n",
    "model.I_J_K = pyo.Set(initialize=model.I * model.J * model.K)\n",
    "\n",
    "model.x = pyo.Var(model.I_J_K, domain=pyo.NonNegativeReals)\n",
    "\n",
    "c = np.random.uniform(0,1,(numI,numJ,numK))\n",
    "b = np.random.uniform(0,1,(numI,numJ))\n",
    "\n",
    "model.objFunc = pyo.Objective(\n",
    "    expr = sum([c[i,j,k] * model.x[i,j,k] for i in model.I for j in model.J for k in model.K]),\n",
    "    sense = pyo.maximize\n",
    ")\n",
    "\n",
    "def myConstraint(m,i,j):\n",
    "    return sum([m.x[i,j,k] for k in m.K]) <= b[i,j]\n",
    "model.myConstraint = pyo.Constraint(model.I_J, rule=myConstraint)\n",
    "\n",
    "pyo.SolverFactory('NathansSimplexSolver').solve(model)#.write()\n",
    "\n",
    "#model.objFunc.display()\n",
    "print(\"ObjFunc = {}\".format(model.objFunc()))\n",
    "model.x.display()"
   ]
  },
  {
   "cell_type": "code",
   "execution_count": null,
   "id": "dbfa3517-477f-4d4f-85c5-7ac1c54cfa5c",
   "metadata": {},
   "outputs": [],
   "source": []
  }
 ],
 "metadata": {
  "kernelspec": {
   "display_name": "Python 3 (ipykernel)",
   "language": "python",
   "name": "python3"
  },
  "language_info": {
   "codemirror_mode": {
    "name": "ipython",
    "version": 3
   },
   "file_extension": ".py",
   "mimetype": "text/x-python",
   "name": "python",
   "nbconvert_exporter": "python",
   "pygments_lexer": "ipython3",
   "version": "3.10.9"
  }
 },
 "nbformat": 4,
 "nbformat_minor": 5
}
